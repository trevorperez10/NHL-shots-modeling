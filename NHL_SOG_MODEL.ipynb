{
 "cells": [
  {
   "cell_type": "code",
   "execution_count": 188,
   "id": "089d0537",
   "metadata": {},
   "outputs": [],
   "source": [
    "from urllib.request import urlopen\n",
    "from bs4 import BeautifulSoup\n",
    "import pandas as pd\n",
    "# specify the url\n",
    "import urllib.request"
   ]
  },
  {
   "cell_type": "code",
   "execution_count": 189,
   "id": "41518b0d",
   "metadata": {},
   "outputs": [],
   "source": [
    "#df = pd.DataFrame()\n",
    "SOG = []\n",
    "TEAM_SOG_HOME = []\n",
    "TEAM_SOG_AWAY = []\n",
    "OPP_SOG = []\n",
    "TOI = []\n",
    "LOCATION = []\n",
    "PIM = []\n"
   ]
  },
  {
   "cell_type": "code",
   "execution_count": 190,
   "id": "ed4fc035",
   "metadata": {},
   "outputs": [],
   "source": [
    "def webscrape_player(player):\n",
    "    class AppURLopener(urllib.request.FancyURLopener):\n",
    "        version = \"Mozilla/5.0\"\n",
    "    opener = AppURLopener()\n",
    "    #SOG = []\n",
    "    #TEAM_SOG = []\n",
    "    #OPP_SOG = []\n",
    "    #TOI = []\n",
    "    #LOCATION = []\n",
    "    #PIM = []\n",
    "    response = opener.open('https://www.hockey-reference.com/players/o/' + player + '/gamelog/2023/')\n",
    "    soup = BeautifulSoup(response, 'html.parser')\n",
    "    shots = soup.findAll('td', {'data-stat': 'shots'})\n",
    "    time = soup.findAll('td', {'data-stat': 'time_on_ice'})\n",
    "    loc = soup.findAll('td', {'data-stat': 'game_location'})\n",
    "    pen_min = soup.findAll('td', {'data-stat': 'pen_min'})\n",
    "    team = soup.find('td', {'data-stat': 'team_id'})\n",
    "    team = team.text.strip()\n",
    "    \n",
    "    for i in shots:\n",
    "        SOG.append(i.text.strip())\n",
    "    for i in time:\n",
    "        x = i.text.strip()\n",
    "        split = x.index(':')\n",
    "        t = int(x[0:split])\n",
    "        second = int(x[(split + 1):]) / 60\n",
    "        TOI.append(t + second)\n",
    "    for i in loc:\n",
    "        x = i.text.strip()\n",
    "        if (x == '@'):\n",
    "            LOCATION.append(0)\n",
    "        else:\n",
    "            LOCATION.append(1)\n",
    "    for i in pen_min:\n",
    "        PIM.append(i.text.strip())\n",
    "    webscrape_team(team, TEAM_SOG_HOME, TEAM_SOG_AWAY )\n",
    "    #webscrape_team(opp, OPP_SOG)\n",
    "    #df['SOG'] = SOG\n",
    "    #df['TOI']= TOI\n",
    "    #df['LOCATION'] = LOCATION\n",
    "    #df['PIM'] = PIM\n",
    "    #df['TEAM_SOG'] = TEAM_SOG\n",
    "    #df['OPP_SOG'] = OPP_SOG\n",
    "    \n",
    "    \n",
    "    "
   ]
  },
  {
   "cell_type": "code",
   "execution_count": 191,
   "id": "53e1f7fb",
   "metadata": {},
   "outputs": [],
   "source": [
    "def webscrape_team(team, sog_home, sog_away):\n",
    "    class AppURLopener(urllib.request.FancyURLopener):\n",
    "        version = \"Mozilla/5.0\"\n",
    "    opener = AppURLopener()\n",
    "    response = opener.open('https://www.hockey-reference.com/teams/' + team + '/2023_gamelog.html')\n",
    "    soup = BeautifulSoup(response, 'html.parser')\n",
    "    shots = soup.findAll('td', {'data-stat': 'shots'})\n",
    "    loc = soup.findAll('td', {'data-stat': 'game_location'})\n",
    "    outcome = soup.findAll('td', {'data-stat': 'game_outcome'})\n",
    "    for i in range(len(shots)):\n",
    "        s = shots[i].text.strip()\n",
    "        h_a = loc[i].text.strip()\n",
    "        occur = outcome[i].text.strip()\n",
    "        if (h_a == '@' and occur != ''):\n",
    "            sog_home.append(int(s))\n",
    "        if (h_a == '' and occur != ''):\n",
    "            sog_away.append(int(s))\n",
    "    "
   ]
  },
  {
   "cell_type": "code",
   "execution_count": 192,
   "id": "8e87ca25",
   "metadata": {},
   "outputs": [],
   "source": [
    "#webscrape_player('ovechal01', 'PHI')\n",
    "#df"
   ]
  },
  {
   "cell_type": "code",
   "execution_count": 193,
   "id": "4536592f",
   "metadata": {},
   "outputs": [
    {
     "name": "stderr",
     "output_type": "stream",
     "text": [
      "<ipython-input-190-b38ec373067a>:4: DeprecationWarning: AppURLopener style of invoking requests is deprecated. Use newer urlopen functions/methods\n",
      "  opener = AppURLopener()\n"
     ]
    },
    {
     "name": "stdout",
     "output_type": "stream",
     "text": [
      "82.05\n"
     ]
    }
   ],
   "source": [
    "\n",
    "webscrape_player('ovechal01')\n",
    "webscrape_team('PHI', OPP_SOG_HOME, OPP_SOG_AWAY)\n",
    "sog_trend = 0\n",
    "avg_sog_home = 0\n",
    "avg_sog_away = 0\n",
    "avg_opp_sog_home = 0\n",
    "avg_opp_sog_away = 0\n",
    "avg_toi = 0\n",
    "avg_pim = 0\n",
    "for i in range(5):\n",
    "    sog_trend += int(SOG[i])\n",
    "sog_trend = sog_trend / 5\n",
    "for i in TOI:\n",
    "    avg_toi += int(i)\n",
    "avg_toi = avg_toi / len(TOI)\n",
    "for i in PIM:\n",
    "    avg_pim += int(i)\n",
    "avg_pim = avg_pim / len(PIM)\n",
    "for i in SOG_HOME:\n",
    "    avg_sog_home += int(i)\n",
    "avg_sog_home = avg_sog_home / len(SOG_HOME)\n",
    "for i in SOG_AWAY:\n",
    "    avg_sog_away += int(i)\n",
    "avg_sog_away = avg_sog_away / len(SOG_AWAY)\n",
    "for i in OPP_SOG_HOME:\n",
    "    avg_opp_sog_home += int(i)\n",
    "avg_opp_sog_home = avg_opp_sog_home / len(OPP_SOG_HOME)\n",
    "for i in OPP_SOG_AWAY:\n",
    "    avg_opp_sog_away += int(i)\n",
    "avg_opp_sog_away = avg_opp_sog_away / len(OPP_SOG_AWAY)\n",
    "score = 0\n",
    "home = False\n",
    "if home == True:\n",
    "    score += avg_sog_home + sog_trend + avg_opp_sog_away + avg_toi + avg_pim\n",
    "else:\n",
    "    score += avg_sog_away + sog_trend + avg_opp_sog_home + avg_toi + avg_pim\n",
    "print(score)\n"
   ]
  },
  {
   "cell_type": "code",
   "execution_count": 164,
   "id": "c8c7f677",
   "metadata": {},
   "outputs": [
    {
     "name": "stdout",
     "output_type": "stream",
     "text": [
      "Intercept: \n",
      " 2.5597956795945684\n",
      "Coefficients: \n",
      " [-0.08872319 -1.33424617 -0.25237205  0.13434271]\n"
     ]
    }
   ],
   "source": [
    "'''\n",
    "from sklearn import linear_model\n",
    "import matplotlib.pyplot as plt\n",
    "\n",
    "x = df[['TOI','LOCATION', 'PIM', 'TEAM_SOG']]\n",
    "y = df['SOG']\n",
    "regr = linear_model.LinearRegression()\n",
    "regr.fit(x, y)\n",
    "\n",
    "print('Intercept: \\n', regr.intercept_)\n",
    "print('Coefficients: \\n', regr.coef_)\n",
    "'''"
   ]
  }
 ],
 "metadata": {
  "kernelspec": {
   "display_name": "Python 3",
   "language": "python",
   "name": "python3"
  },
  "language_info": {
   "codemirror_mode": {
    "name": "ipython",
    "version": 3
   },
   "file_extension": ".py",
   "mimetype": "text/x-python",
   "name": "python",
   "nbconvert_exporter": "python",
   "pygments_lexer": "ipython3",
   "version": "3.8.8"
  }
 },
 "nbformat": 4,
 "nbformat_minor": 5
}
